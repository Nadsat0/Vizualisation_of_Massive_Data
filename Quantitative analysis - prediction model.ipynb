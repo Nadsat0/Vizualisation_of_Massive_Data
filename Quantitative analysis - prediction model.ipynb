{
 "cells": [
  {
   "cell_type": "markdown",
   "metadata": {},
   "source": [
    "## Modifiez la variable analyzed_sales pour changer le scope de la prediction\n",
    "valeurs possibles : 'Global_Sales', 'NA_Sales', 'EU_Sales', 'JP_Sales', 'Other_Sales'"
   ]
  },
  {
   "cell_type": "code",
   "execution_count": 1,
   "metadata": {},
   "outputs": [],
   "source": [
    "import pandas as pd\n",
    "import matplotlib.pyplot as plt\n",
    "import numpy as np\n",
    "import seaborn as sns\n",
    "\n",
    "df = pd.read_csv('vgsales.csv')\n",
    "analyzed_sales = 'Global_Sales'"
   ]
  },
  {
   "cell_type": "code",
   "execution_count": 2,
   "metadata": {},
   "outputs": [],
   "source": [
    "df = df[df.Year < 2015]\n",
    "df = df.dropna()\n",
    "df[analyzed_sales] = df[analyzed_sales].apply(lambda x: x*1000)\n",
    "\n",
    "def create_price(data) :\n",
    "    price = {'Wii': 50, 'NES' : 40, 'GB' : 30, 'DS' : 35, 'X360' : 60, 'PS3' : 60, 'PS2' : 50, 'SNES' : 60,\n",
    "             'GBA' : 35, '3DS' : 40, 'PS4' : 60, 'N64' : 50, 'PS' : 50, 'XB' : 50, 'PC' : 50, '2600' : 40,\n",
    "             'PSP' : 50, 'XOne' : 60, 'GC' : 50, 'WiiU' : 60, 'GEN' : 50, 'DC' : 50, 'PSV' : 50, 'SAT' : 50,\n",
    "             'SCD' : 80, 'WS' : 70, 'NG' : 200, 'TG16' : 50,\n",
    "       '3DO' : 50, 'GG' : 50, 'PCFX' : 50}\n",
    "    prices = []\n",
    "    for elem in range(len(data)) :\n",
    "        #print(price[data['Platform'][elem]])\n",
    "        x = price[data.iloc[elem]['Platform']]\n",
    "        calc = round(np.random.normal(x, x / 10), 2)\n",
    "        prices.append(calc);\n",
    "    data[\"Price\"] = prices\n",
    "    return data\n",
    "\n",
    "def create_notation(data) :\n",
    "    notations_list = []\n",
    "    for elem in range(len(data)) :\n",
    "        notation = round(np.random.normal(10, 1) + ((data[\"Rank\"].max() - data.iloc[elem][\"Rank\"]) / data[\"Rank\"].max()) * 5, 2)\n",
    "        notations_list.append(notation)\n",
    "    data[\"Notation\"] = notations_list\n",
    "    return data\n",
    "\n",
    "df = create_price(df)\n",
    "#df = create_notation(df)\n",
    "\n",
    "for platform in df.Platform.unique():\n",
    "    if df[df.Platform == platform].shape[0] <= 20:\n",
    "        df = df[df.Platform != platform]\n",
    "\n",
    "for publisher in df.Publisher.unique():\n",
    "    if df[df.Publisher == publisher].shape[0] <= 20:\n",
    "        df = df[df.Publisher != publisher]"
   ]
  },
  {
   "cell_type": "code",
   "execution_count": 3,
   "metadata": {},
   "outputs": [
    {
     "name": "stdout",
     "output_type": "stream",
     "text": [
      "<class 'pandas.core.frame.DataFrame'>\n",
      "Int64Index: 13263 entries, 0 to 16595\n",
      "Data columns (total 12 columns):\n",
      " #   Column        Non-Null Count  Dtype  \n",
      "---  ------        --------------  -----  \n",
      " 0   Rank          13263 non-null  int64  \n",
      " 1   Name          13263 non-null  object \n",
      " 2   Platform      13263 non-null  object \n",
      " 3   Year          13263 non-null  float64\n",
      " 4   Genre         13263 non-null  object \n",
      " 5   Publisher     13263 non-null  object \n",
      " 6   NA_Sales      13263 non-null  float64\n",
      " 7   EU_Sales      13263 non-null  float64\n",
      " 8   JP_Sales      13263 non-null  float64\n",
      " 9   Other_Sales   13263 non-null  float64\n",
      " 10  Global_Sales  13263 non-null  float64\n",
      " 11  Price         13263 non-null  float64\n",
      "dtypes: float64(7), int64(1), object(4)\n",
      "memory usage: 1.3+ MB\n"
     ]
    }
   ],
   "source": [
    "df.info()"
   ]
  },
  {
   "cell_type": "code",
   "execution_count": 4,
   "metadata": {},
   "outputs": [],
   "source": [
    "from sklearn.model_selection import train_test_split\n",
    "\n",
    "X_train, X_test = train_test_split(df, test_size=0.3, random_state=12)\n",
    "y_train, y_test = X_train[analyzed_sales], X_test[analyzed_sales]\n",
    "X_train = X_train.drop(['NA_Sales', 'EU_Sales', 'JP_Sales', 'Other_Sales', 'Global_Sales'], axis=1)\n",
    "X_test = X_test.drop(['NA_Sales', 'EU_Sales', 'JP_Sales', 'Other_Sales', 'Global_Sales'], axis=1)"
   ]
  },
  {
   "cell_type": "code",
   "execution_count": 5,
   "metadata": {},
   "outputs": [],
   "source": [
    "from sklearn.base import BaseEstimator, TransformerMixin\n",
    "\n",
    "class ClearAttributes(BaseEstimator, TransformerMixin):\n",
    "    def fit(self, X, y=None):\n",
    "        return self\n",
    "    def transform(self, X):\n",
    "        X = X.drop(['Rank', 'Name', 'Publisher'], axis=1)\n",
    "        return X"
   ]
  },
  {
   "cell_type": "code",
   "execution_count": 6,
   "metadata": {},
   "outputs": [],
   "source": [
    "clear_attributes = ClearAttributes()"
   ]
  },
  {
   "cell_type": "code",
   "execution_count": 9,
   "metadata": {},
   "outputs": [],
   "source": [
    "from sklearn.compose import ColumnTransformer\n",
    "from sklearn.preprocessing import StandardScaler\n",
    "from sklearn.preprocessing import OneHotEncoder\n",
    "\n",
    "clean_attributes = ['Rank', 'Year', 'Name', 'Publisher']\n",
    "num_attributes = ['Year', 'Price']\n",
    "cat_attribs = ['Platform', 'Genre']\n",
    "\n",
    "pipeline = ColumnTransformer([\n",
    "    ('clean', clear_attributes, clean_attributes),\n",
    "    ('std_scaler', StandardScaler(), num_attributes),\n",
    "    ('cat', OneHotEncoder(), cat_attribs)\n",
    "])\n",
    "\n",
    "jv_prepared = pipeline.fit_transform(X_train)"
   ]
  },
  {
   "cell_type": "code",
   "execution_count": 10,
   "metadata": {},
   "outputs": [
    {
     "data": {
      "text/plain": [
       "LinearRegression(copy_X=True, fit_intercept=True, n_jobs=None, normalize=False)"
      ]
     },
     "execution_count": 10,
     "metadata": {},
     "output_type": "execute_result"
    }
   ],
   "source": [
    "from sklearn.linear_model import LinearRegression\n",
    "\n",
    "lin_reg = LinearRegression()\n",
    "lin_reg.fit(jv_prepared, y_train)"
   ]
  },
  {
   "cell_type": "code",
   "execution_count": 11,
   "metadata": {},
   "outputs": [
    {
     "data": {
      "text/plain": [
       "1814.6594415875772"
      ]
     },
     "execution_count": 11,
     "metadata": {},
     "output_type": "execute_result"
    }
   ],
   "source": [
    "from sklearn.metrics import mean_squared_error\n",
    "\n",
    "jv_predictions = lin_reg.predict(jv_prepared)\n",
    "lin_mse = mean_squared_error(y_train, jv_predictions)\n",
    "lin_rmse = np.sqrt(lin_mse)\n",
    "lin_rmse"
   ]
  },
  {
   "cell_type": "code",
   "execution_count": 12,
   "metadata": {},
   "outputs": [
    {
     "data": {
      "text/plain": [
       "DecisionTreeRegressor(ccp_alpha=0.0, criterion='mse', max_depth=None,\n",
       "                      max_features=None, max_leaf_nodes=None,\n",
       "                      min_impurity_decrease=0.0, min_impurity_split=None,\n",
       "                      min_samples_leaf=1, min_samples_split=2,\n",
       "                      min_weight_fraction_leaf=0.0, presort='deprecated',\n",
       "                      random_state=None, splitter='best')"
      ]
     },
     "execution_count": 12,
     "metadata": {},
     "output_type": "execute_result"
    }
   ],
   "source": [
    "from sklearn.tree import DecisionTreeRegressor\n",
    "\n",
    "dtr = DecisionTreeRegressor()\n",
    "dtr.fit(jv_prepared, y_train)"
   ]
  },
  {
   "cell_type": "code",
   "execution_count": 13,
   "metadata": {},
   "outputs": [
    {
     "data": {
      "text/plain": [
       "174.869173108287"
      ]
     },
     "execution_count": 13,
     "metadata": {},
     "output_type": "execute_result"
    }
   ],
   "source": [
    "jv_predictions = dtr.predict(jv_prepared)\n",
    "dtr_mse = mean_squared_error(y_train, jv_predictions)\n",
    "dtr_rmse = np.sqrt(dtr_mse)\n",
    "dtr_rmse"
   ]
  },
  {
   "cell_type": "code",
   "execution_count": 14,
   "metadata": {},
   "outputs": [
    {
     "data": {
      "text/plain": [
       "1234.8253863596312"
      ]
     },
     "execution_count": 14,
     "metadata": {},
     "output_type": "execute_result"
    }
   ],
   "source": [
    "X_test_prepared = pipeline.transform(X_test)\n",
    "final_predictions = lin_reg.predict(X_test_prepared)\n",
    "final_mse = mean_squared_error(y_test, final_predictions)\n",
    "final_rmse = np.sqrt(final_mse)\n",
    "final_rmse"
   ]
  },
  {
   "cell_type": "code",
   "execution_count": 15,
   "metadata": {},
   "outputs": [
    {
     "data": {
      "text/plain": [
       "380.52126066029734"
      ]
     },
     "execution_count": 15,
     "metadata": {},
     "output_type": "execute_result"
    }
   ],
   "source": [
    "X_test_prepared = pipeline.transform(X_test)\n",
    "final_predictions = lin_reg.predict(X_test_prepared)\n",
    "np.std(final_predictions)"
   ]
  },
  {
   "cell_type": "code",
   "execution_count": 18,
   "metadata": {},
   "outputs": [
    {
     "data": {
      "image/png": "[encoded data removed]",
      "text/plain": [
       "<Figure size 432x288 with 1 Axes>"
      ]
     },
     "metadata": {
      "needs_background": "light"
     },
     "output_type": "display_data"
    }
   ],
   "source": [
    "import matplotlib.pyplot as plt\n",
    "\n",
    "X_test = X_test.sort_index()\n",
    "y_test = y_test.sort_index()\n",
    "plt.plot(X_test.index, final_predictions, 'r', label='Predicted Sales')\n",
    "plt.plot(X_test.index, y_test, label='Real Sales')\n",
    "plt.xlabel('Index')\n",
    "plt.ylabel('Sales')\n",
    "plt.legend()\n",
    "plt.show()"
   ]
  },
  {
   "cell_type": "markdown",
   "metadata": {},
   "source": [
    "## Entrez ici vos donnees a tester"
   ]
  },
  {
   "cell_type": "code",
   "execution_count": 19,
   "metadata": {},
   "outputs": [
    {
     "data": {
      "text/plain": [
       "array([752.15504154])"
      ]
     },
     "execution_count": 19,
     "metadata": {},
     "output_type": "execute_result"
    }
   ],
   "source": [
    "#modifiez la liste ci-dessous avec vos donnees\n",
    "data = [[42, 'Example', '3DS', 2012, 'Action', 'Nintendo', 42]]\n",
    "df_professor = pd.DataFrame(data, columns=['Rank', 'Name', 'Platform', 'Year', 'Genre', 'Publisher', 'Price'])\n",
    "df_prepared = pipeline.transform(df_professor)\n",
    "prediction_professor = lin_reg.predict(df_prepared)\n",
    "prediction_professor"
   ]
  },
  {
   "cell_type": "code",
   "execution_count": null,
   "metadata": {},
   "outputs": [],
   "source": []
  }
 ],
 "metadata": {
  "kernelspec": {
   "display_name": "Python 3",
   "language": "python",
   "name": "python3"
  },
  "language_info": {
   "codemirror_mode": {
    "name": "ipython",
    "version": 3
   },
   "file_extension": ".py",
   "mimetype": "text/x-python",
   "name": "python",
   "nbconvert_exporter": "python",
   "pygments_lexer": "ipython3",
   "version": "3.7.6"
  }
 },
 "nbformat": 4,
 "nbformat_minor": 4
}
