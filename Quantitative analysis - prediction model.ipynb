{
 "cells": [
  {
   "cell_type": "code",
   "execution_count": 1,
   "metadata": {},
   "outputs": [],
   "source": [
    "import pandas as pd\n",
    "import matplotlib.pyplot as plt\n",
    "import numpy as np\n",
    "import seaborn as sns\n",
    "\n",
    "df = pd.read_csv('vgsales.csv')\n",
    "analyzed_sales = 'Global_Sales'"
   ]
  },
  {
   "cell_type": "code",
   "execution_count": 2,
   "metadata": {},
   "outputs": [],
   "source": [
    "df = df[df.Year < 2015]\n",
    "df = df.dropna()\n",
    "\n",
    "def create_price(data) :\n",
    "    price = {'Wii': 50, 'NES' : 40, 'GB' : 30, 'DS' : 35, 'X360' : 60, 'PS3' : 60, 'PS2' : 50, 'SNES' : 60,\n",
    "             'GBA' : 35, '3DS' : 40, 'PS4' : 60, 'N64' : 50, 'PS' : 50, 'XB' : 50, 'PC' : 50, '2600' : 40,\n",
    "             'PSP' : 50, 'XOne' : 60, 'GC' : 50, 'WiiU' : 60, 'GEN' : 50, 'DC' : 50, 'PSV' : 50, 'SAT' : 50,\n",
    "             'SCD' : 80, 'WS' : 70, 'NG' : 200, 'TG16' : 50,\n",
    "       '3DO' : 50, 'GG' : 50, 'PCFX' : 50}\n",
    "    prices = []\n",
    "    for elem in range(len(data)) :\n",
    "        #print(price[data['Platform'][elem]])\n",
    "        x = price[data.iloc[elem]['Platform']]\n",
    "        calc = round(np.random.normal(x, x / 10), 2)\n",
    "        prices.append(calc);\n",
    "    data[\"Price\"] = prices\n",
    "    return data\n",
    "\n",
    "def create_notation(data) :\n",
    "    notations_list = []\n",
    "    for elem in range(len(data)) :\n",
    "        notation = round(np.random.normal(10, 1) + ((data[\"Rank\"].max() - data.iloc[elem][\"Rank\"]) / data[\"Rank\"].max()) * 5, 2)\n",
    "        notations_list.append(notation)\n",
    "    data[\"Notation\"] = notations_list\n",
    "    return data\n",
    "\n",
    "df = create_price(df)\n",
    "df = create_notation(df)\n",
    "\n",
    "for platform in df.Platform.unique():\n",
    "    if df[df.Platform == platform].shape[0] <= 20:\n",
    "        df = df[df.Platform != platform]\n",
    "\n",
    "for publisher in df.Publisher.unique():\n",
    "    if df[df.Publisher == publisher].shape[0] <= 20:\n",
    "        df = df[df.Publisher != publisher]"
   ]
  },
  {
   "cell_type": "code",
   "execution_count": 4,
   "metadata": {},
   "outputs": [
    {
     "name": "stdout",
     "output_type": "stream",
     "text": [
      "<class 'pandas.core.frame.DataFrame'>\n",
      "Int64Index: 13263 entries, 0 to 16595\n",
      "Data columns (total 13 columns):\n",
      " #   Column        Non-Null Count  Dtype  \n",
      "---  ------        --------------  -----  \n",
      " 0   Rank          13263 non-null  int64  \n",
      " 1   Name          13263 non-null  object \n",
      " 2   Platform      13263 non-null  object \n",
      " 3   Year          13263 non-null  float64\n",
      " 4   Genre         13263 non-null  object \n",
      " 5   Publisher     13263 non-null  object \n",
      " 6   NA_Sales      13263 non-null  float64\n",
      " 7   EU_Sales      13263 non-null  float64\n",
      " 8   JP_Sales      13263 non-null  float64\n",
      " 9   Other_Sales   13263 non-null  float64\n",
      " 10  Global_Sales  13263 non-null  float64\n",
      " 11  Price         13263 non-null  float64\n",
      " 12  Notation      13263 non-null  float64\n",
      "dtypes: float64(8), int64(1), object(4)\n",
      "memory usage: 1.4+ MB\n"
     ]
    }
   ],
   "source": [
    "df.info()"
   ]
  },
  {
   "cell_type": "code",
   "execution_count": 5,
   "metadata": {},
   "outputs": [
    {
     "data": {
      "text/html": [
       "<div>\n",
       "<style scoped>\n",
       "    .dataframe tbody tr th:only-of-type {\n",
       "        vertical-align: middle;\n",
       "    }\n",
       "\n",
       "    .dataframe tbody tr th {\n",
       "        vertical-align: top;\n",
       "    }\n",
       "\n",
       "    .dataframe thead th {\n",
       "        text-align: right;\n",
       "    }\n",
       "</style>\n",
       "<table border=\"1\" class=\"dataframe\">\n",
       "  <thead>\n",
       "    <tr style=\"text-align: right;\">\n",
       "      <th></th>\n",
       "      <th>Rank</th>\n",
       "      <th>Name</th>\n",
       "      <th>Platform</th>\n",
       "      <th>Year</th>\n",
       "      <th>Genre</th>\n",
       "      <th>Publisher</th>\n",
       "      <th>NA_Sales</th>\n",
       "      <th>EU_Sales</th>\n",
       "      <th>JP_Sales</th>\n",
       "      <th>Other_Sales</th>\n",
       "      <th>Global_Sales</th>\n",
       "      <th>Price</th>\n",
       "      <th>Notation</th>\n",
       "    </tr>\n",
       "  </thead>\n",
       "  <tbody>\n",
       "    <tr>\n",
       "      <th>0</th>\n",
       "      <td>1</td>\n",
       "      <td>Wii Sports</td>\n",
       "      <td>Wii</td>\n",
       "      <td>2006.0</td>\n",
       "      <td>Sports</td>\n",
       "      <td>Nintendo</td>\n",
       "      <td>41.49</td>\n",
       "      <td>29.02</td>\n",
       "      <td>3.77</td>\n",
       "      <td>8.46</td>\n",
       "      <td>82.74</td>\n",
       "      <td>37.26</td>\n",
       "      <td>14.07</td>\n",
       "    </tr>\n",
       "    <tr>\n",
       "      <th>1</th>\n",
       "      <td>2</td>\n",
       "      <td>Super Mario Bros.</td>\n",
       "      <td>NES</td>\n",
       "      <td>1985.0</td>\n",
       "      <td>Platform</td>\n",
       "      <td>Nintendo</td>\n",
       "      <td>29.08</td>\n",
       "      <td>3.58</td>\n",
       "      <td>6.81</td>\n",
       "      <td>0.77</td>\n",
       "      <td>40.24</td>\n",
       "      <td>39.56</td>\n",
       "      <td>14.42</td>\n",
       "    </tr>\n",
       "    <tr>\n",
       "      <th>2</th>\n",
       "      <td>3</td>\n",
       "      <td>Mario Kart Wii</td>\n",
       "      <td>Wii</td>\n",
       "      <td>2008.0</td>\n",
       "      <td>Racing</td>\n",
       "      <td>Nintendo</td>\n",
       "      <td>15.85</td>\n",
       "      <td>12.88</td>\n",
       "      <td>3.79</td>\n",
       "      <td>3.31</td>\n",
       "      <td>35.82</td>\n",
       "      <td>52.07</td>\n",
       "      <td>15.86</td>\n",
       "    </tr>\n",
       "    <tr>\n",
       "      <th>3</th>\n",
       "      <td>4</td>\n",
       "      <td>Wii Sports Resort</td>\n",
       "      <td>Wii</td>\n",
       "      <td>2009.0</td>\n",
       "      <td>Sports</td>\n",
       "      <td>Nintendo</td>\n",
       "      <td>15.75</td>\n",
       "      <td>11.01</td>\n",
       "      <td>3.28</td>\n",
       "      <td>2.96</td>\n",
       "      <td>33.00</td>\n",
       "      <td>47.96</td>\n",
       "      <td>16.83</td>\n",
       "    </tr>\n",
       "    <tr>\n",
       "      <th>4</th>\n",
       "      <td>5</td>\n",
       "      <td>Pokemon Red/Pokemon Blue</td>\n",
       "      <td>GB</td>\n",
       "      <td>1996.0</td>\n",
       "      <td>Role-Playing</td>\n",
       "      <td>Nintendo</td>\n",
       "      <td>11.27</td>\n",
       "      <td>8.89</td>\n",
       "      <td>10.22</td>\n",
       "      <td>1.00</td>\n",
       "      <td>31.37</td>\n",
       "      <td>29.15</td>\n",
       "      <td>14.16</td>\n",
       "    </tr>\n",
       "    <tr>\n",
       "      <th>...</th>\n",
       "      <td>...</td>\n",
       "      <td>...</td>\n",
       "      <td>...</td>\n",
       "      <td>...</td>\n",
       "      <td>...</td>\n",
       "      <td>...</td>\n",
       "      <td>...</td>\n",
       "      <td>...</td>\n",
       "      <td>...</td>\n",
       "      <td>...</td>\n",
       "      <td>...</td>\n",
       "      <td>...</td>\n",
       "      <td>...</td>\n",
       "    </tr>\n",
       "    <tr>\n",
       "      <th>16591</th>\n",
       "      <td>16594</td>\n",
       "      <td>Myst IV: Revelation</td>\n",
       "      <td>PC</td>\n",
       "      <td>2004.0</td>\n",
       "      <td>Adventure</td>\n",
       "      <td>Ubisoft</td>\n",
       "      <td>0.01</td>\n",
       "      <td>0.00</td>\n",
       "      <td>0.00</td>\n",
       "      <td>0.00</td>\n",
       "      <td>0.01</td>\n",
       "      <td>47.13</td>\n",
       "      <td>9.78</td>\n",
       "    </tr>\n",
       "    <tr>\n",
       "      <th>16592</th>\n",
       "      <td>16595</td>\n",
       "      <td>Plushees</td>\n",
       "      <td>DS</td>\n",
       "      <td>2008.0</td>\n",
       "      <td>Simulation</td>\n",
       "      <td>Destineer</td>\n",
       "      <td>0.01</td>\n",
       "      <td>0.00</td>\n",
       "      <td>0.00</td>\n",
       "      <td>0.00</td>\n",
       "      <td>0.01</td>\n",
       "      <td>38.08</td>\n",
       "      <td>9.45</td>\n",
       "    </tr>\n",
       "    <tr>\n",
       "      <th>16593</th>\n",
       "      <td>16596</td>\n",
       "      <td>Woody Woodpecker in Crazy Castle 5</td>\n",
       "      <td>GBA</td>\n",
       "      <td>2002.0</td>\n",
       "      <td>Platform</td>\n",
       "      <td>Kemco</td>\n",
       "      <td>0.01</td>\n",
       "      <td>0.00</td>\n",
       "      <td>0.00</td>\n",
       "      <td>0.00</td>\n",
       "      <td>0.01</td>\n",
       "      <td>37.89</td>\n",
       "      <td>10.03</td>\n",
       "    </tr>\n",
       "    <tr>\n",
       "      <th>16594</th>\n",
       "      <td>16597</td>\n",
       "      <td>Men in Black II: Alien Escape</td>\n",
       "      <td>GC</td>\n",
       "      <td>2003.0</td>\n",
       "      <td>Shooter</td>\n",
       "      <td>Infogrames</td>\n",
       "      <td>0.01</td>\n",
       "      <td>0.00</td>\n",
       "      <td>0.00</td>\n",
       "      <td>0.00</td>\n",
       "      <td>0.01</td>\n",
       "      <td>47.50</td>\n",
       "      <td>8.72</td>\n",
       "    </tr>\n",
       "    <tr>\n",
       "      <th>16595</th>\n",
       "      <td>16598</td>\n",
       "      <td>SCORE International Baja 1000: The Official Game</td>\n",
       "      <td>PS2</td>\n",
       "      <td>2008.0</td>\n",
       "      <td>Racing</td>\n",
       "      <td>Activision</td>\n",
       "      <td>0.00</td>\n",
       "      <td>0.00</td>\n",
       "      <td>0.00</td>\n",
       "      <td>0.00</td>\n",
       "      <td>0.01</td>\n",
       "      <td>49.67</td>\n",
       "      <td>10.52</td>\n",
       "    </tr>\n",
       "  </tbody>\n",
       "</table>\n",
       "<p>13263 rows × 13 columns</p>\n",
       "</div>"
      ],
      "text/plain": [
       "        Rank                                              Name Platform  \\\n",
       "0          1                                        Wii Sports      Wii   \n",
       "1          2                                 Super Mario Bros.      NES   \n",
       "2          3                                    Mario Kart Wii      Wii   \n",
       "3          4                                 Wii Sports Resort      Wii   \n",
       "4          5                          Pokemon Red/Pokemon Blue       GB   \n",
       "...      ...                                               ...      ...   \n",
       "16591  16594                               Myst IV: Revelation       PC   \n",
       "16592  16595                                          Plushees       DS   \n",
       "16593  16596                Woody Woodpecker in Crazy Castle 5      GBA   \n",
       "16594  16597                     Men in Black II: Alien Escape       GC   \n",
       "16595  16598  SCORE International Baja 1000: The Official Game      PS2   \n",
       "\n",
       "         Year         Genre   Publisher  NA_Sales  EU_Sales  JP_Sales  \\\n",
       "0      2006.0        Sports    Nintendo     41.49     29.02      3.77   \n",
       "1      1985.0      Platform    Nintendo     29.08      3.58      6.81   \n",
       "2      2008.0        Racing    Nintendo     15.85     12.88      3.79   \n",
       "3      2009.0        Sports    Nintendo     15.75     11.01      3.28   \n",
       "4      1996.0  Role-Playing    Nintendo     11.27      8.89     10.22   \n",
       "...       ...           ...         ...       ...       ...       ...   \n",
       "16591  2004.0     Adventure     Ubisoft      0.01      0.00      0.00   \n",
       "16592  2008.0    Simulation   Destineer      0.01      0.00      0.00   \n",
       "16593  2002.0      Platform       Kemco      0.01      0.00      0.00   \n",
       "16594  2003.0       Shooter  Infogrames      0.01      0.00      0.00   \n",
       "16595  2008.0        Racing  Activision      0.00      0.00      0.00   \n",
       "\n",
       "       Other_Sales  Global_Sales  Price  Notation  \n",
       "0             8.46         82.74  37.26     14.07  \n",
       "1             0.77         40.24  39.56     14.42  \n",
       "2             3.31         35.82  52.07     15.86  \n",
       "3             2.96         33.00  47.96     16.83  \n",
       "4             1.00         31.37  29.15     14.16  \n",
       "...            ...           ...    ...       ...  \n",
       "16591         0.00          0.01  47.13      9.78  \n",
       "16592         0.00          0.01  38.08      9.45  \n",
       "16593         0.00          0.01  37.89     10.03  \n",
       "16594         0.00          0.01  47.50      8.72  \n",
       "16595         0.00          0.01  49.67     10.52  \n",
       "\n",
       "[13263 rows x 13 columns]"
      ]
     },
     "execution_count": 5,
     "metadata": {},
     "output_type": "execute_result"
    }
   ],
   "source": [
    "df"
   ]
  },
  {
   "cell_type": "code",
   "execution_count": 75,
   "metadata": {},
   "outputs": [],
   "source": [
    "from sklearn.model_selection import train_test_split\n",
    "\n",
    "X_train, X_test = train_test_split(df, test_size=0.3, random_state=12)\n",
    "y_train, y_test = X_train[analyzed_sales], X_test[analyzed_sales]\n",
    "X_train = X_train.drop(['NA_Sales', 'EU_Sales', 'JP_Sales', 'Other_Sales', 'Global_Sales'], axis=1)\n",
    "X_test = X_test.drop(['NA_Sales', 'EU_Sales', 'JP_Sales', 'Other_Sales', 'Global_Sales'], axis=1)"
   ]
  },
  {
   "cell_type": "code",
   "execution_count": 76,
   "metadata": {},
   "outputs": [],
   "source": [
    "from sklearn.base import BaseEstimator, TransformerMixin\n",
    "\n",
    "class ClearAttributes(BaseEstimator, TransformerMixin):\n",
    "    def fit(self, X, y=None):\n",
    "        return self\n",
    "    def transform(self, X):\n",
    "        X = X.drop(['Rank', 'Name'], axis=1)\n",
    "        return X"
   ]
  },
  {
   "cell_type": "code",
   "execution_count": 77,
   "metadata": {},
   "outputs": [
    {
     "name": "stdout",
     "output_type": "stream",
     "text": [
      "<class 'pandas.core.frame.DataFrame'>\n",
      "Int64Index: 9284 entries, 16040 to 6497\n",
      "Data columns (total 4 columns):\n",
      " #   Column     Non-Null Count  Dtype  \n",
      "---  ------     --------------  -----  \n",
      " 0   Platform   9284 non-null   object \n",
      " 1   Year       9284 non-null   float64\n",
      " 2   Genre      9284 non-null   object \n",
      " 3   Publisher  9284 non-null   object \n",
      "dtypes: float64(1), object(3)\n",
      "memory usage: 362.7+ KB\n"
     ]
    }
   ],
   "source": [
    "tmp = ClearAttributes()\n",
    "clean_data = tmp.transform(X_train)\n",
    "clean_data.info()"
   ]
  },
  {
   "cell_type": "code",
   "execution_count": 78,
   "metadata": {},
   "outputs": [],
   "source": [
    "from sklearn.preprocessing import OneHotEncoder\n",
    "\n",
    "cat_attribs = ['Platform', 'Genre', 'Publisher']\n",
    "jv_cat = X_train[cat_attribs]\n",
    "cat_encoder = OneHotEncoder()\n",
    "jv_cat_1hot = cat_encoder.fit_transform(jv_cat)"
   ]
  },
  {
   "cell_type": "code",
   "execution_count": 79,
   "metadata": {},
   "outputs": [
    {
     "data": {
      "text/plain": [
       "[array(['2600', '3DS', 'DC', 'DS', 'GB', 'GBA', 'GC', 'GEN', 'N64', 'NES',\n",
       "        'PC', 'PS', 'PS2', 'PS3', 'PS4', 'PSP', 'PSV', 'SAT', 'SNES',\n",
       "        'Wii', 'WiiU', 'X360', 'XB', 'XOne'], dtype=object),\n",
       " array(['Action', 'Adventure', 'Fighting', 'Misc', 'Platform', 'Puzzle',\n",
       "        'Racing', 'Role-Playing', 'Shooter', 'Simulation', 'Sports',\n",
       "        'Strategy'], dtype=object),\n",
       " array(['3DO', '505 Games', '5pb', 'Acclaim Entertainment', 'Activision',\n",
       "        'Activision Value', 'Alchemist', 'Arc System Works', 'Atari',\n",
       "        'Atlus', 'Avanquest', 'BAM! Entertainment', 'Banpresto',\n",
       "        'Bethesda Softworks', 'Black Bean Games', 'Capcom', 'Codemasters',\n",
       "        'Crave Entertainment', 'D3Publisher', 'DTP Entertainment',\n",
       "        'Deep Silver', 'Destineer', 'Disney Interactive Studios',\n",
       "        'Eidos Interactive', 'Electronic Arts', 'Empire Interactive',\n",
       "        'Enix Corporation', 'Focus Home Interactive', 'GT Interactive',\n",
       "        'Game Factory', 'Global Star', 'Hudson Soft', 'Idea Factory',\n",
       "        'Ignition Entertainment', 'Infogrames', 'Interplay', 'Jaleco',\n",
       "        'JoWood Productions', 'Kadokawa Shoten', 'Kalypso Media', 'Kemco',\n",
       "        'Konami Digital Entertainment', 'Level 5', 'LucasArts',\n",
       "        'MTV Games', 'Majesco Entertainment', 'Marvelous Interactive',\n",
       "        'Microsoft Game Studios', 'Midas Interactive Entertainment',\n",
       "        'Midway Games', 'Mindscape', 'Namco Bandai Games', 'Nintendo',\n",
       "        'Nippon Ichi Software', 'Nordic Games', 'Oxygen Interactive',\n",
       "        'PQube', 'Prototype', 'Psygnosis', 'Rising Star Games', 'Sega',\n",
       "        'Sony Computer Entertainment', 'SouthPeak Games', 'Spike',\n",
       "        'Square Enix', 'SquareSoft', 'TDK Mediactive', 'THQ',\n",
       "        'Takara Tomy', 'Take-Two Interactive', 'Tecmo Koei', 'Ubisoft',\n",
       "        'Universal Interactive', 'Unknown', 'Virgin Interactive',\n",
       "        'Vivendi Games', 'Warner Bros. Interactive Entertainment',\n",
       "        'Zoo Digital Publishing', 'Zoo Games'], dtype=object)]"
      ]
     },
     "execution_count": 79,
     "metadata": {},
     "output_type": "execute_result"
    }
   ],
   "source": [
    "cat_encoder.categories_"
   ]
  },
  {
   "cell_type": "code",
   "execution_count": 80,
   "metadata": {},
   "outputs": [],
   "source": [
    "from sklearn.compose import ColumnTransformer\n",
    "\n",
    "clean_attributes = ['Rank', 'Year', 'Name']\n",
    "\n",
    "pipeline = ColumnTransformer([\n",
    "    ('clean', tmp, clean_attributes),\n",
    "    ('cat', OneHotEncoder(), cat_attribs)\n",
    "])\n",
    "\n",
    "jv_prepared = pipeline.fit_transform(X_train)"
   ]
  },
  {
   "cell_type": "code",
   "execution_count": 81,
   "metadata": {},
   "outputs": [
    {
     "data": {
      "text/plain": [
       "<9284x116 sparse matrix of type '<class 'numpy.float64'>'\n",
       "\twith 37136 stored elements in Compressed Sparse Row format>"
      ]
     },
     "execution_count": 81,
     "metadata": {},
     "output_type": "execute_result"
    }
   ],
   "source": [
    "jv_prepared"
   ]
  },
  {
   "cell_type": "code",
   "execution_count": 82,
   "metadata": {},
   "outputs": [
    {
     "data": {
      "text/plain": [
       "LinearRegression(copy_X=True, fit_intercept=True, n_jobs=None, normalize=False)"
      ]
     },
     "execution_count": 82,
     "metadata": {},
     "output_type": "execute_result"
    }
   ],
   "source": [
    "from sklearn.linear_model import LinearRegression\n",
    "\n",
    "lin_reg = LinearRegression()\n",
    "lin_reg.fit(jv_prepared, y_train)"
   ]
  },
  {
   "cell_type": "code",
   "execution_count": 83,
   "metadata": {},
   "outputs": [
    {
     "name": "stdout",
     "output_type": "stream",
     "text": [
      "Predicions:  [1.04380005 0.78124899 0.79057787 1.18685535 0.95088462]\n"
     ]
    }
   ],
   "source": [
    "some_data = X_train.iloc[:5]\n",
    "some_labels = y_train.iloc[:5]\n",
    "some_data_prepared = pipeline.transform(some_data)\n",
    "print(\"Predicions: \", lin_reg.predict(some_data_prepared))"
   ]
  },
  {
   "cell_type": "code",
   "execution_count": 84,
   "metadata": {},
   "outputs": [
    {
     "data": {
      "text/plain": [
       "1.7302284975780098"
      ]
     },
     "execution_count": 84,
     "metadata": {},
     "output_type": "execute_result"
    }
   ],
   "source": [
    "from sklearn.metrics import mean_squared_error\n",
    "\n",
    "jv_predictions = lin_reg.predict(jv_prepared)\n",
    "lin_mse = mean_squared_error(y_train, jv_predictions)\n",
    "lin_rmse = np.sqrt(lin_mse)\n",
    "lin_rmse"
   ]
  },
  {
   "cell_type": "code",
   "execution_count": 85,
   "metadata": {},
   "outputs": [
    {
     "name": "stdout",
     "output_type": "stream",
     "text": [
      "Predicions:  [0.05       0.16       1.625      0.98       1.01666667]\n"
     ]
    }
   ],
   "source": [
    "from sklearn.tree import DecisionTreeRegressor\n",
    "\n",
    "dtr = DecisionTreeRegressor()\n",
    "dtr.fit(jv_prepared, y_train)\n",
    "\n",
    "print(\"Predicions: \", dtr.predict(some_data_prepared))"
   ]
  },
  {
   "cell_type": "code",
   "execution_count": 86,
   "metadata": {},
   "outputs": [
    {
     "data": {
      "text/plain": [
       "0.911888872484564"
      ]
     },
     "execution_count": 86,
     "metadata": {},
     "output_type": "execute_result"
    }
   ],
   "source": [
    "jv_predictions = dtr.predict(jv_prepared)\n",
    "dtr_mse = mean_squared_error(y_train, jv_predictions)\n",
    "dtr_rmse = np.sqrt(dtr_mse)\n",
    "dtr_rmse"
   ]
  },
  {
   "cell_type": "code",
   "execution_count": 88,
   "metadata": {},
   "outputs": [
    {
     "data": {
      "text/plain": [
       "1.2040585491162552"
      ]
     },
     "execution_count": 88,
     "metadata": {},
     "output_type": "execute_result"
    }
   ],
   "source": [
    "X_test_prepared = pipeline.transform(X_test[X_test.Platform != '3DO'])\n",
    "final_predictions = lin_reg.predict(X_test_prepared)\n",
    "final_mse = mean_squared_error(y_test, final_predictions)\n",
    "final_rmse = np.sqrt(final_mse)\n",
    "final_rmse"
   ]
  },
  {
   "cell_type": "code",
   "execution_count": null,
   "metadata": {},
   "outputs": [],
   "source": []
  }
 ],
 "metadata": {
  "kernelspec": {
   "display_name": "Python 3",
   "language": "python",
   "name": "python3"
  },
  "language_info": {
   "codemirror_mode": {
    "name": "ipython",
    "version": 3
   },
   "file_extension": ".py",
   "mimetype": "text/x-python",
   "name": "python",
   "nbconvert_exporter": "python",
   "pygments_lexer": "ipython3",
   "version": "3.8.5"
  }
 },
 "nbformat": 4,
 "nbformat_minor": 4
}
