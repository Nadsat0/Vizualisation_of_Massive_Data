{
 "cells": [
  {
   "cell_type": "code",
   "execution_count": 50,
   "metadata": {},
   "outputs": [],
   "source": [
    "import pandas as pd\n",
    "import matplotlib.pyplot as plt\n",
    "import numpy as np\n",
    "import seaborn as sns\n",
    "\n",
    "df = pd.read_csv('vgsales.csv')\n",
    "analyzed_sales = 'Global_Sales'"
   ]
  },
  {
   "cell_type": "code",
   "execution_count": 72,
   "metadata": {},
   "outputs": [],
   "source": [
    "df = df[df.Year < 2015]\n",
    "df = df.dropna()\n",
    "for platform in df.Platform.unique():\n",
    "    if df[df.Platform == platform].shape[0] <= 20:\n",
    "        df = df[df.Platform != platform]\n",
    "\n",
    "for publisher in df.Publisher.unique():\n",
    "    if df[df.Publisher == publisher].shape[0] <= 20:\n",
    "        df = df[df.Publisher != publisher]"
   ]
  },
  {
   "cell_type": "code",
   "execution_count": 74,
   "metadata": {},
   "outputs": [
    {
     "name": "stdout",
     "output_type": "stream",
     "text": [
      "<class 'pandas.core.frame.DataFrame'>\n",
      "Int64Index: 13263 entries, 0 to 16595\n",
      "Data columns (total 11 columns):\n",
      " #   Column        Non-Null Count  Dtype  \n",
      "---  ------        --------------  -----  \n",
      " 0   Rank          13263 non-null  int64  \n",
      " 1   Name          13263 non-null  object \n",
      " 2   Platform      13263 non-null  object \n",
      " 3   Year          13263 non-null  float64\n",
      " 4   Genre         13263 non-null  object \n",
      " 5   Publisher     13263 non-null  object \n",
      " 6   NA_Sales      13263 non-null  float64\n",
      " 7   EU_Sales      13263 non-null  float64\n",
      " 8   JP_Sales      13263 non-null  float64\n",
      " 9   Other_Sales   13263 non-null  float64\n",
      " 10  Global_Sales  13263 non-null  float64\n",
      "dtypes: float64(6), int64(1), object(4)\n",
      "memory usage: 1.2+ MB\n"
     ]
    }
   ],
   "source": [
    "df.info()"
   ]
  },
  {
   "cell_type": "code",
   "execution_count": 75,
   "metadata": {},
   "outputs": [],
   "source": [
    "from sklearn.model_selection import train_test_split\n",
    "\n",
    "X_train, X_test = train_test_split(df, test_size=0.3, random_state=12)\n",
    "y_train, y_test = X_train[analyzed_sales], X_test[analyzed_sales]\n",
    "X_train = X_train.drop(['NA_Sales', 'EU_Sales', 'JP_Sales', 'Other_Sales', 'Global_Sales'], axis=1)\n",
    "X_test = X_test.drop(['NA_Sales', 'EU_Sales', 'JP_Sales', 'Other_Sales', 'Global_Sales'], axis=1)"
   ]
  },
  {
   "cell_type": "code",
   "execution_count": 76,
   "metadata": {},
   "outputs": [],
   "source": [
    "from sklearn.base import BaseEstimator, TransformerMixin\n",
    "\n",
    "class ClearAttributes(BaseEstimator, TransformerMixin):\n",
    "    def fit(self, X, y=None):\n",
    "        return self\n",
    "    def transform(self, X):\n",
    "        X = X.drop(['Rank', 'Name'], axis=1)\n",
    "        return X"
   ]
  },
  {
   "cell_type": "code",
   "execution_count": 77,
   "metadata": {},
   "outputs": [
    {
     "name": "stdout",
     "output_type": "stream",
     "text": [
      "<class 'pandas.core.frame.DataFrame'>\n",
      "Int64Index: 9284 entries, 16040 to 6497\n",
      "Data columns (total 4 columns):\n",
      " #   Column     Non-Null Count  Dtype  \n",
      "---  ------     --------------  -----  \n",
      " 0   Platform   9284 non-null   object \n",
      " 1   Year       9284 non-null   float64\n",
      " 2   Genre      9284 non-null   object \n",
      " 3   Publisher  9284 non-null   object \n",
      "dtypes: float64(1), object(3)\n",
      "memory usage: 362.7+ KB\n"
     ]
    }
   ],
   "source": [
    "tmp = ClearAttributes()\n",
    "clean_data = tmp.transform(X_train)\n",
    "clean_data.info()"
   ]
  },
  {
   "cell_type": "code",
   "execution_count": 78,
   "metadata": {},
   "outputs": [],
   "source": [
    "from sklearn.preprocessing import OneHotEncoder\n",
    "\n",
    "cat_attribs = ['Platform', 'Genre', 'Publisher']\n",
    "jv_cat = X_train[cat_attribs]\n",
    "cat_encoder = OneHotEncoder()\n",
    "jv_cat_1hot = cat_encoder.fit_transform(jv_cat)"
   ]
  },
  {
   "cell_type": "code",
   "execution_count": 79,
   "metadata": {},
   "outputs": [
    {
     "data": {
      "text/plain": [
       "[array(['2600', '3DS', 'DC', 'DS', 'GB', 'GBA', 'GC', 'GEN', 'N64', 'NES',\n",
       "        'PC', 'PS', 'PS2', 'PS3', 'PS4', 'PSP', 'PSV', 'SAT', 'SNES',\n",
       "        'Wii', 'WiiU', 'X360', 'XB', 'XOne'], dtype=object),\n",
       " array(['Action', 'Adventure', 'Fighting', 'Misc', 'Platform', 'Puzzle',\n",
       "        'Racing', 'Role-Playing', 'Shooter', 'Simulation', 'Sports',\n",
       "        'Strategy'], dtype=object),\n",
       " array(['3DO', '505 Games', '5pb', 'Acclaim Entertainment', 'Activision',\n",
       "        'Activision Value', 'Alchemist', 'Arc System Works', 'Atari',\n",
       "        'Atlus', 'Avanquest', 'BAM! Entertainment', 'Banpresto',\n",
       "        'Bethesda Softworks', 'Black Bean Games', 'Capcom', 'Codemasters',\n",
       "        'Crave Entertainment', 'D3Publisher', 'DTP Entertainment',\n",
       "        'Deep Silver', 'Destineer', 'Disney Interactive Studios',\n",
       "        'Eidos Interactive', 'Electronic Arts', 'Empire Interactive',\n",
       "        'Enix Corporation', 'Focus Home Interactive', 'GT Interactive',\n",
       "        'Game Factory', 'Global Star', 'Hudson Soft', 'Idea Factory',\n",
       "        'Ignition Entertainment', 'Infogrames', 'Interplay', 'Jaleco',\n",
       "        'JoWood Productions', 'Kadokawa Shoten', 'Kalypso Media', 'Kemco',\n",
       "        'Konami Digital Entertainment', 'Level 5', 'LucasArts',\n",
       "        'MTV Games', 'Majesco Entertainment', 'Marvelous Interactive',\n",
       "        'Microsoft Game Studios', 'Midas Interactive Entertainment',\n",
       "        'Midway Games', 'Mindscape', 'Namco Bandai Games', 'Nintendo',\n",
       "        'Nippon Ichi Software', 'Nordic Games', 'Oxygen Interactive',\n",
       "        'PQube', 'Prototype', 'Psygnosis', 'Rising Star Games', 'Sega',\n",
       "        'Sony Computer Entertainment', 'SouthPeak Games', 'Spike',\n",
       "        'Square Enix', 'SquareSoft', 'TDK Mediactive', 'THQ',\n",
       "        'Takara Tomy', 'Take-Two Interactive', 'Tecmo Koei', 'Ubisoft',\n",
       "        'Universal Interactive', 'Unknown', 'Virgin Interactive',\n",
       "        'Vivendi Games', 'Warner Bros. Interactive Entertainment',\n",
       "        'Zoo Digital Publishing', 'Zoo Games'], dtype=object)]"
      ]
     },
     "execution_count": 79,
     "metadata": {},
     "output_type": "execute_result"
    }
   ],
   "source": [
    "cat_encoder.categories_"
   ]
  },
  {
   "cell_type": "code",
   "execution_count": 80,
   "metadata": {},
   "outputs": [],
   "source": [
    "from sklearn.compose import ColumnTransformer\n",
    "\n",
    "clean_attributes = ['Rank', 'Year', 'Name']\n",
    "\n",
    "pipeline = ColumnTransformer([\n",
    "    ('clean', tmp, clean_attributes),\n",
    "    ('cat', OneHotEncoder(), cat_attribs)\n",
    "])\n",
    "\n",
    "jv_prepared = pipeline.fit_transform(X_train)"
   ]
  },
  {
   "cell_type": "code",
   "execution_count": 81,
   "metadata": {},
   "outputs": [
    {
     "data": {
      "text/plain": [
       "<9284x116 sparse matrix of type '<class 'numpy.float64'>'\n",
       "\twith 37136 stored elements in Compressed Sparse Row format>"
      ]
     },
     "execution_count": 81,
     "metadata": {},
     "output_type": "execute_result"
    }
   ],
   "source": [
    "jv_prepared"
   ]
  },
  {
   "cell_type": "code",
   "execution_count": 82,
   "metadata": {},
   "outputs": [
    {
     "data": {
      "text/plain": [
       "LinearRegression(copy_X=True, fit_intercept=True, n_jobs=None, normalize=False)"
      ]
     },
     "execution_count": 82,
     "metadata": {},
     "output_type": "execute_result"
    }
   ],
   "source": [
    "from sklearn.linear_model import LinearRegression\n",
    "\n",
    "lin_reg = LinearRegression()\n",
    "lin_reg.fit(jv_prepared, y_train)"
   ]
  },
  {
   "cell_type": "code",
   "execution_count": 83,
   "metadata": {},
   "outputs": [
    {
     "name": "stdout",
     "output_type": "stream",
     "text": [
      "Predicions:  [1.04380005 0.78124899 0.79057787 1.18685535 0.95088462]\n"
     ]
    }
   ],
   "source": [
    "some_data = X_train.iloc[:5]\n",
    "some_labels = y_train.iloc[:5]\n",
    "some_data_prepared = pipeline.transform(some_data)\n",
    "print(\"Predicions: \", lin_reg.predict(some_data_prepared))"
   ]
  },
  {
   "cell_type": "code",
   "execution_count": 84,
   "metadata": {},
   "outputs": [
    {
     "data": {
      "text/plain": [
       "1.7302284975780098"
      ]
     },
     "execution_count": 84,
     "metadata": {},
     "output_type": "execute_result"
    }
   ],
   "source": [
    "from sklearn.metrics import mean_squared_error\n",
    "\n",
    "jv_predictions = lin_reg.predict(jv_prepared)\n",
    "lin_mse = mean_squared_error(y_train, jv_predictions)\n",
    "lin_rmse = np.sqrt(lin_mse)\n",
    "lin_rmse"
   ]
  },
  {
   "cell_type": "code",
   "execution_count": 85,
   "metadata": {},
   "outputs": [
    {
     "name": "stdout",
     "output_type": "stream",
     "text": [
      "Predicions:  [0.05       0.16       1.625      0.98       1.01666667]\n"
     ]
    }
   ],
   "source": [
    "from sklearn.tree import DecisionTreeRegressor\n",
    "\n",
    "dtr = DecisionTreeRegressor()\n",
    "dtr.fit(jv_prepared, y_train)\n",
    "\n",
    "print(\"Predicions: \", dtr.predict(some_data_prepared))"
   ]
  },
  {
   "cell_type": "code",
   "execution_count": 86,
   "metadata": {},
   "outputs": [
    {
     "data": {
      "text/plain": [
       "0.911888872484564"
      ]
     },
     "execution_count": 86,
     "metadata": {},
     "output_type": "execute_result"
    }
   ],
   "source": [
    "jv_predictions = dtr.predict(jv_prepared)\n",
    "dtr_mse = mean_squared_error(y_train, jv_predictions)\n",
    "dtr_rmse = np.sqrt(dtr_mse)\n",
    "dtr_rmse"
   ]
  },
  {
   "cell_type": "code",
   "execution_count": 88,
   "metadata": {},
   "outputs": [
    {
     "data": {
      "text/plain": [
       "1.2040585491162552"
      ]
     },
     "execution_count": 88,
     "metadata": {},
     "output_type": "execute_result"
    }
   ],
   "source": [
    "X_test_prepared = pipeline.transform(X_test[X_test.Platform != '3DO'])\n",
    "final_predictions = lin_reg.predict(X_test_prepared)\n",
    "final_mse = mean_squared_error(y_test, final_predictions)\n",
    "final_rmse = np.sqrt(final_mse)\n",
    "final_rmse"
   ]
  },
  {
   "cell_type": "code",
   "execution_count": null,
   "metadata": {},
   "outputs": [],
   "source": []
  }
 ],
 "metadata": {
  "kernelspec": {
   "display_name": "Python 3",
   "language": "python",
   "name": "python3"
  },
  "language_info": {
   "codemirror_mode": {
    "name": "ipython",
    "version": 3
   },
   "file_extension": ".py",
   "mimetype": "text/x-python",
   "name": "python",
   "nbconvert_exporter": "python",
   "pygments_lexer": "ipython3",
   "version": "3.7.6"
  }
 },
 "nbformat": 4,
 "nbformat_minor": 4
}
